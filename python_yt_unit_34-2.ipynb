{
 "cells": [
  {
   "cell_type": "markdown",
   "id": "36f021e8",
   "metadata": {},
   "source": [
    "# Unit_3 & 4"
   ]
  },
  {
   "cell_type": "code",
   "execution_count": 13,
   "id": "5d13b842",
   "metadata": {},
   "outputs": [
    {
     "name": "stdout",
     "output_type": "stream",
     "text": [
      "Enter a number:\n",
      "7\n",
      "1 4 9 16 25 36 49 "
     ]
    }
   ],
   "source": [
    "print(\"Enter a number:\")\n",
    "n=int(input())\n",
    "for e in range(1,n+1):\n",
    "    print(e**2,end=' ')\n"
   ]
  },
  {
   "cell_type": "code",
   "execution_count": 15,
   "id": "df34e3a3",
   "metadata": {},
   "outputs": [
    {
     "name": "stdout",
     "output_type": "stream",
     "text": [
      "Enter a number:\n",
      "8\n",
      "1 4 9 16 25 36 49 64 "
     ]
    }
   ],
   "source": [
    "# function-->>it is a block of code that works only when function is called\n",
    "def example():\n",
    "    print(\"Enter a number:\")\n",
    "    n=int(input())\n",
    "    for e in range(1,n+1):\n",
    "        print(e**2,end=' ')\n",
    "        \n",
    "example()   #calling function --> function can be called n-times once it is defined"
   ]
  },
  {
   "cell_type": "code",
   "execution_count": 6,
   "id": "4af76830",
   "metadata": {},
   "outputs": [],
   "source": [
    "\"\"\"_functions_\"\"\"\n",
    "\n",
    "# --->>> local variables: variables within a function that is particular and only works for function \n",
    "                       #->>>>> we can make local variables to global variables by using \"global\" term before that\n",
    "# --->>> global variables: variables outside the function that is for whole program and also works for function\n",
    "\n",
    "\n",
    "#function ke apne samajne ke liye 4 parts me divide kr lete h:\n",
    "    # (i) -->  takes nothing, returns nothing\n",
    "    # (ii) --> takes something, returns nothing\n",
    "    # (iii) -->  takes nothing, returns something\n",
    "    # (iv) --> takes something, returns something"
   ]
  },
  {
   "cell_type": "code",
   "execution_count": 1,
   "id": "61b04d43",
   "metadata": {},
   "outputs": [
    {
     "name": "stdout",
     "output_type": "stream",
     "text": [
      "enter two numbers\n"
     ]
    },
    {
     "ename": "TypeError",
     "evalue": "int() argument must be a string, a bytes-like object or a real number, not 'method'",
     "output_type": "error",
     "traceback": [
      "\u001b[0;31m---------------------------------------------------------------------------\u001b[0m",
      "\u001b[0;31mTypeError\u001b[0m                                 Traceback (most recent call last)",
      "Cell \u001b[0;32mIn[1], line 9\u001b[0m\n\u001b[1;32m      7\u001b[0m     c\u001b[38;5;241m=\u001b[39ma\u001b[38;5;241m+\u001b[39mb\n\u001b[1;32m      8\u001b[0m     \u001b[38;5;28mprint\u001b[39m(\u001b[38;5;124m\"\u001b[39m\u001b[38;5;124msum is\u001b[39m\u001b[38;5;124m\"\u001b[39m,c)\n\u001b[0;32m----> 9\u001b[0m add()\n",
      "Cell \u001b[0;32mIn[1], line 5\u001b[0m, in \u001b[0;36madd\u001b[0;34m()\u001b[0m\n\u001b[1;32m      3\u001b[0m \u001b[38;5;28;01mdef\u001b[39;00m \u001b[38;5;21madd\u001b[39m():\n\u001b[1;32m      4\u001b[0m     \u001b[38;5;28mprint\u001b[39m(\u001b[38;5;124m\"\u001b[39m\u001b[38;5;124menter two numbers\u001b[39m\u001b[38;5;124m\"\u001b[39m)\n\u001b[0;32m----> 5\u001b[0m     a\u001b[38;5;241m=\u001b[39m\u001b[38;5;28mint\u001b[39m(\u001b[38;5;28minput\u001b[39m)\n\u001b[1;32m      6\u001b[0m     b\u001b[38;5;241m=\u001b[39m\u001b[38;5;28mint\u001b[39m(\u001b[38;5;28minput\u001b[39m)\n\u001b[1;32m      7\u001b[0m     c\u001b[38;5;241m=\u001b[39ma\u001b[38;5;241m+\u001b[39mb\n",
      "\u001b[0;31mTypeError\u001b[0m: int() argument must be a string, a bytes-like object or a real number, not 'method'"
     ]
    }
   ],
   "source": [
    "# (i) -->>  takes nothing, returns nothing\n",
    "\n",
    "def add():\n",
    "    print(\"enter two numbers\")\n",
    "    a=int(input)\n",
    "    b=int(input)\n",
    "    c=a+b\n",
    "    print(\"sum is\",c)   #pureee function ki block mein khi bhi return ka use nhi hua hai toh vo kuch return nhhi krega\n",
    "add()"
   ]
  },
  {
   "cell_type": "code",
   "execution_count": 9,
   "id": "72cd1e1a",
   "metadata": {},
   "outputs": [
    {
     "name": "stdout",
     "output_type": "stream",
     "text": [
      "sum is 30\n"
     ]
    }
   ],
   "source": [
    "# (ii) -->> takes something, returns nothing\n",
    "def add(a,b):  #(a,b) is formal arguments\n",
    "    c=a+b\n",
    "    print(\"sum is\",c)\n",
    "add(10,20)   #(10,20) are actual arguments where a=10 & b=20"
   ]
  },
  {
   "cell_type": "code",
   "execution_count": 1,
   "id": "5da9d2b9",
   "metadata": {},
   "outputs": [
    {
     "name": "stdout",
     "output_type": "stream",
     "text": [
      "enter two numbers\n",
      "9\n",
      "11\n",
      "sum is 20\n"
     ]
    }
   ],
   "source": [
    "# (iii) -->  takes nothing, returns something\n",
    "def add():\n",
    "    print(\"enter two numbers\")\n",
    "    a=int(input())\n",
    "    b=int(input())\n",
    "    c=a+b\n",
    "    return c\n",
    "s=add()\n",
    "print(\"sum is\",s)"
   ]
  },
  {
   "cell_type": "code",
   "execution_count": 3,
   "id": "42ad4b7b",
   "metadata": {},
   "outputs": [
    {
     "name": "stdout",
     "output_type": "stream",
     "text": [
      "sum is 80\n"
     ]
    }
   ],
   "source": [
    "# (iv) --> takes something, returns something\n",
    "def add(a,b):\n",
    "    c=a+b\n",
    "    return c\n",
    "y=add(20,60)\n",
    "print(\"sum is\",y)  "
   ]
  },
  {
   "cell_type": "code",
   "execution_count": 19,
   "id": "fd1141c1",
   "metadata": {},
   "outputs": [
    {
     "name": "stdout",
     "output_type": "stream",
     "text": [
      "sim is -1\n",
      "sim is 50\n",
      "\n",
      "total 0\n",
      "total 93\n",
      "total 10\n"
     ]
    }
   ],
   "source": [
    "\"\"\"_default arguments_\"\"\"  \n",
    "# default arguments -->> default argumenst will take take the given default value which we write while defining \n",
    "                               #it if we do not give it any value while calling\n",
    "# --->>> we cannot have non-default arguments after default arguments!!!\n",
    "\n",
    "def f1(a,b):\n",
    "    c=a-b\n",
    "    print(\"sim is\",c)\n",
    "f1(3,4)  # here, we have given values as per our formal arguments i.e. a=3 & b=4\n",
    "f1(b=5,a=55)   # here, we are changing i.e b=5 & a=55\n",
    "\n",
    "print()\n",
    "def f2(a,b,c=100):   \n",
    "    d=c-a-b\n",
    "    print(\"total\",d)\n",
    "f2(3,4,7)\n",
    "f2(3,4)       # here, if we we not assing any value to \"c\" while calling then it will default value 100\n",
    "f2(b=33,c=44,a=1)"
   ]
  },
  {
   "cell_type": "code",
   "execution_count": 21,
   "id": "6854f942",
   "metadata": {},
   "outputs": [
    {
     "name": "stdout",
     "output_type": "stream",
     "text": [
      "sim is 0\n",
      "sim is 149\n"
     ]
    }
   ],
   "source": [
    "\"\"\"_positional & keywords arguments_\"\"\"\n",
    "# positional arguments -->> when we call funcn and give it some value than defined funcn wil get it as per its position.\n",
    "# keyword arguments -->>  in this we assign values to our arguments as per our choice but to all arguments by using \"=\" sign\n",
    "\n",
    "def f1(a,b,c):\n",
    "    d=c+a-b\n",
    "    print(\"sim is\",d)\n",
    "f1(3,4,1)         # positional arguments\n",
    "f1(b=5,c=99,a=55)       # keywrod arguments\n"
   ]
  },
  {
   "cell_type": "code",
   "execution_count": 2,
   "id": "35ab41dc",
   "metadata": {},
   "outputs": [
    {
     "name": "stdout",
     "output_type": "stream",
     "text": [
      "28\n",
      "3\n",
      "6\n",
      "\n",
      "5040\n",
      "2\n",
      "6\n"
     ]
    }
   ],
   "source": [
    "\"\"\"_variable-length arguments_\"\"\"\n",
    "\n",
    "#Program to illustrate variable number of arguments\n",
    "def mySum(*args):\n",
    "\tsum = 0\n",
    "\tfor i in args:\n",
    "\t\tsum = sum + i\n",
    "\treturn sum\n",
    "#Write your code here\n",
    "print(mySum(1, 2, 3, 4, 5, 6, 7))\t#7 arguments\n",
    "print(mySum(1, 2))\t#2 arguments\n",
    "print(mySum(1, 2, 3))\t#3 arguments\n",
    "\n",
    "print()\n",
    "#Program to illustrate variable number of arguments\n",
    "def mySum(*args):\n",
    "\tsum = 1\n",
    "\tfor i in args:\n",
    "\t\tsum = sum * i\n",
    "\treturn sum\n",
    "print(mySum(1, 2, 3, 4, 5, 6, 7))\n",
    "print(mySum(1, 2))\n",
    "print(mySum(1, 2, 3))"
   ]
  },
  {
   "cell_type": "code",
   "execution_count": 3,
   "id": "25256fd1",
   "metadata": {},
   "outputs": [
    {
     "name": "stdout",
     "output_type": "stream",
     "text": [
      "largest: 4\n",
      "largest: 9\n"
     ]
    }
   ],
   "source": [
    "#Program to illustrate Variable number of arguments\n",
    "def largestNumber( * numbers):\n",
    "\ttemp = 0\n",
    "\tfor num in numbers:\n",
    "\t\tif(num < temp): #1<0\n",
    "\t\t\tlargest = temp\n",
    "\t\telse:\n",
    "\t\t\tlargest = num #largest=1\n",
    "\t\t\ttemp = num #temp=1\n",
    "\tprint(\"largest:\", largest)\n",
    "                \n",
    "# write your code here\n",
    "                \n",
    "largestNumber(1, 2, 3, 4)\t\t\t#4 arguments\n",
    "largestNumber(8, 9, 3, 4, 2, 5)\t\t#6 arguments"
   ]
  },
  {
   "cell_type": "code",
   "execution_count": 1,
   "id": "b0d764af",
   "metadata": {},
   "outputs": [
    {
     "name": "stdout",
     "output_type": "stream",
     "text": [
      "total is 66\n"
     ]
    }
   ],
   "source": [
    "\"\"\"_recursion_\"\"\"\n",
    "\n",
    "# recursion -->> function calling itself (recursion - kind of never ending situation)\n",
    "    \n",
    "# recursion ending -->> if somehow create a condition i.e. 'base condition'  recursion ends and backtrack\n",
    "          #--->>> base case - isko banane ke liye hmm mainly conditons form krenge by using functions like \"if\"\n",
    "    \n",
    "# recursion tree -->> try to make this by dry running the code and understanding that how actually the code is working.\n",
    "\n",
    "\n",
    "\n",
    "\n",
    "def f(k):\n",
    "    if k==1:     # base case--->>> when this situation will met or satisfied then our recursion will end\n",
    "        return 1\n",
    "    else:\n",
    "        s=k+f(k-1)     # recursive case--->>>our code will start from this f=8 -> f=7 ->f=6 ->f=5 ->f=4....->f=1 then only function will end \n",
    "    return s\n",
    "x=f(11)\n",
    "print('total is',x)"
   ]
  },
  {
   "cell_type": "code",
   "execution_count": 9,
   "id": "028049be",
   "metadata": {},
   "outputs": [
    {
     "name": "stdout",
     "output_type": "stream",
     "text": [
      "a: 8\n",
      "b: 3\n",
      "11\n"
     ]
    }
   ],
   "source": [
    "#Program to add two numbers using recursion\n",
    "def add(x, y):\n",
    "\ttot = x\n",
    "\tif y == 0:\n",
    "\t\treturn x\n",
    "\tif x == 0:\n",
    "\t\treturn y\n",
    "\telse:\n",
    "\t\tif y > 0:\n",
    "\t\t\treturn tot + add(1, y - 1)\n",
    "\t\telse:\n",
    "\t\t\treturn tot + add( - 1, y + 1)\n",
    "a = int(input(\"a: \"))\n",
    "b = int(input(\"b: \"))\n",
    "print(add(a, b))"
   ]
  },
  {
   "cell_type": "code",
   "execution_count": 5,
   "id": "cc95121b",
   "metadata": {},
   "outputs": [
    {
     "name": "stdout",
     "output_type": "stream",
     "text": [
      "a: 3\n",
      "b: 8\n",
      "11\n"
     ]
    }
   ],
   "source": [
    "def add(a, b):\n",
    "    if b == 0:\n",
    "        return a\n",
    "    else:\n",
    "        return add(a + 1, b - 1)\n",
    "a=int(input(\"a: \"))\n",
    "b=int(input(\"b: \"))\n",
    "print(add(a, b))\n"
   ]
  },
  {
   "cell_type": "code",
   "execution_count": 9,
   "id": "17b9685f",
   "metadata": {},
   "outputs": [
    {
     "name": "stdout",
     "output_type": "stream",
     "text": [
      "n:4\n",
      "total is 10\n"
     ]
    }
   ],
   "source": [
    "# Question: write a recursive program to find sum of n numbers???\n",
    " \n",
    "def f(n):\n",
    "    if n==1 or n==0:     \n",
    "        return 1\n",
    "    return n+f(n-1)\n",
    "n=int(input('n:'))\n",
    "x=f(n)\n",
    "print('total is',x)"
   ]
  },
  {
   "cell_type": "code",
   "execution_count": 8,
   "id": "c3d3b6f0",
   "metadata": {},
   "outputs": [
    {
     "name": "stdout",
     "output_type": "stream",
     "text": [
      "k:4\n",
      "30\n"
     ]
    }
   ],
   "source": [
    "# Question: write a recursive program to find sum of squares of n numbers???\n",
    "\n",
    "def sum(k):\n",
    "    if k==1:\n",
    "        return 1\n",
    "    return k**2+sum(k-1)\n",
    "k=int(input(\"k:\"))\n",
    "x=sum(k)\n",
    "print(x)"
   ]
  },
  {
   "cell_type": "code",
   "execution_count": 10,
   "id": "d80fa2c6",
   "metadata": {},
   "outputs": [
    {
     "name": "stdout",
     "output_type": "stream",
     "text": [
      "1\n",
      "\n",
      "16\n",
      "\n",
      "10\n",
      "\n",
      "recursion using lambda: 24\n"
     ]
    }
   ],
   "source": [
    "\"\"\"_lambda expression_\"\"\"\n",
    "\n",
    "# lambda expressions -->> its a kind of way of writing our function in a single line using \"lambda\"\n",
    "                #--> no need for def keyword\n",
    "                #--> no need for retturn keyword\n",
    "#example: lambda a,b,c... = a+b+c...  /     a*b*c....    / a/b/c.... \n",
    "\n",
    "x=(lambda a,b,c:a*b-c)(1,2,1)\n",
    "print(x)\n",
    "\n",
    "print()\n",
    "y=(lambda a,b,c:(a*b)**c)(1,2,4)\n",
    "print(y)\n",
    "\n",
    "\n",
    "print()\n",
    "f1=lambda a,b,c:a**b+c         #writing function in this way i.e in lamda way to use it n-times\n",
    "print(f1(2,3,2))     \n",
    "\n",
    "\n",
    "\n",
    "#--->>>recusrsion in lamda expression\n",
    "\n",
    "print()\n",
    "f= lambda x: 1 if x==1 or 0 else x*f(x-1)\n",
    "\n",
    "print(\"recursion using lambda:\",f(4))"
   ]
  },
  {
   "cell_type": "code",
   "execution_count": 6,
   "id": "2ba5e1d7",
   "metadata": {},
   "outputs": [
    {
     "name": "stdout",
     "output_type": "stream",
     "text": [
      "Please enter your salary: 50000\n",
      "Tax to be paid is 10000.0\n",
      "\n",
      "[2, 3, 7, 9]\n",
      "[2, 3, 7, 9]\n"
     ]
    }
   ],
   "source": [
    "tax = lambda salary:salary * 20 / 100 # write the expression here\n",
    "\t\n",
    "salary = int(input(\"Please enter your salary: \"))#\tsalary =50000\n",
    "print(\"Tax to be paid is\", tax(salary))\n",
    "\n",
    "\n",
    "print()\n",
    "a = [1, 2, 3, 5, 7, 9]\n",
    "b = [2, 3, 6, 7, 9, 8]\n",
    " # apply lambda function to the filter function and print the result\n",
    "print(list(filter(lambda x : x in a, b)))\n",
    " # print the result using list comprehension\n",
    "print([x for x in a if x in b])\n",
    " "
   ]
  },
  {
   "cell_type": "code",
   "execution_count": null,
   "id": "0815df64",
   "metadata": {},
   "outputs": [],
   "source": [
    "\"\"\"_function composition_\"\"\"\n",
    "\n",
    "#function composition -->>> it is kind of using one defined function in other function\n",
    "\n",
    "def square(a):\n",
    "    return a**2 #100\n",
    "def doublenum(a):\n",
    "    return a*2 #10\n",
    "a=int(input(\"enter a number\"))#a=5\n",
    "print(\"output=\",square(doublenum(a)))"
   ]
  },
  {
   "cell_type": "code",
   "execution_count": 15,
   "id": "d0710c01",
   "metadata": {},
   "outputs": [
    {
     "name": "stdout",
     "output_type": "stream",
     "text": [
      "Hello\n",
      "Good Morning\n"
     ]
    }
   ],
   "source": [
    "\"\"\"_local and global variables_\"\"\"\n",
    "\n",
    "# --->>> local variables: variables within a function that is particular and only works for function \n",
    "                       #->>>>> we can make local variables to global variables by using \"global\" term before that\n",
    "# --->>> global variables: variables outside the function that is for whole program and also works for function\n",
    "\n",
    "\n",
    "globvar = \"Hello\" #global variable\n",
    "def test1():\n",
    "    global globvar\n",
    "    globvar = \"Good Morning\"  \n",
    "    \n",
    "def test2():\n",
    "    globvar = \"Night Night\" #local variable\n",
    "    \n",
    "print(globvar)\n",
    "test1()\n",
    "test2()\n",
    "print(globvar) "
   ]
  },
  {
   "cell_type": "code",
   "execution_count": 13,
   "id": "3ebf589e",
   "metadata": {},
   "outputs": [
    {
     "name": "stdout",
     "output_type": "stream",
     "text": [
      "a: 8\n",
      "global a before function call: 8\n",
      "local a value: 500\n",
      "global a after function call: 200\n"
     ]
    }
   ],
   "source": [
    "#Program to illustrate Global and Local Variables by taking two input from user\n",
    "\n",
    "a=int(input(\"a: \"))\n",
    "def changeglobal():\n",
    "\tglobal a\n",
    "\ta = 200\n",
    "def changelocal():\n",
    "\ta = 500\n",
    "\tprint(\"local a value:\", a)\n",
    "\n",
    "print(\"global a before function call:\", a) \n",
    "changeglobal()\n",
    "changelocal()\n",
    "print(\"global a after function call:\",a)"
   ]
  },
  {
   "cell_type": "code",
   "execution_count": null,
   "id": "f37c308a",
   "metadata": {},
   "outputs": [],
   "source": []
  },
  {
   "cell_type": "code",
   "execution_count": null,
   "id": "336b2ff5",
   "metadata": {},
   "outputs": [],
   "source": []
  },
  {
   "cell_type": "code",
   "execution_count": null,
   "id": "f1c3ffa0",
   "metadata": {},
   "outputs": [],
   "source": []
  },
  {
   "cell_type": "code",
   "execution_count": 8,
   "id": "fff43fa0",
   "metadata": {},
   "outputs": [
    {
     "name": "stdout",
     "output_type": "stream",
     "text": [
      "choc: 75\n",
      "std: 8\n",
      "extra choclate that is required is 5\n"
     ]
    }
   ],
   "source": [
    "#cbt2\n",
    "# Question: Write a function by taking two input from user in form of choc and students and distribute that choc \n",
    "#  in students if  evenly distributed return 0 if not then return no of extra choclate needed to distribute evenly\n",
    "\n",
    "def dis(n,m):\n",
    "    if n%m==0:\n",
    "        return 0\n",
    "    else:\n",
    "        return m-(n%m)\n",
    "choc=int(input(\"choc: \"))\n",
    "std=int(input(\"std: \"))\n",
    "print(\"extra choclate that is required is\",dis(choc,std))"
   ]
  },
  {
   "cell_type": "code",
   "execution_count": 15,
   "id": "a2d9e3af",
   "metadata": {},
   "outputs": [
    {
     "name": "stdout",
     "output_type": "stream",
     "text": [
      "n: 10\n"
     ]
    },
    {
     "data": {
      "text/plain": [
       "1.09"
      ]
     },
     "execution_count": 15,
     "metadata": {},
     "output_type": "execute_result"
    }
   ],
   "source": [
    "#cbt2\n",
    "\n",
    "def progr(k):\n",
    "    if k==0 or k==1:\n",
    "        return 1\n",
    "    else:\n",
    "        return 1/n**2 + progr(k-1)\n",
    "n=int(input(\"n: \"))\n",
    "progr(n)"
   ]
  },
  {
   "cell_type": "code",
   "execution_count": null,
   "id": "2e13a3b4",
   "metadata": {},
   "outputs": [],
   "source": []
  }
 ],
 "metadata": {
  "kernelspec": {
   "display_name": "Python 3 (ipykernel)",
   "language": "python",
   "name": "python3"
  },
  "language_info": {
   "codemirror_mode": {
    "name": "ipython",
    "version": 3
   },
   "file_extension": ".py",
   "mimetype": "text/x-python",
   "name": "python",
   "nbconvert_exporter": "python",
   "pygments_lexer": "ipython3",
   "version": "3.11.5"
  }
 },
 "nbformat": 4,
 "nbformat_minor": 5
}
