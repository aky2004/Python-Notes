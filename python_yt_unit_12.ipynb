{
 "cells": [
  {
   "cell_type": "markdown",
   "id": "67db42a7",
   "metadata": {},
   "source": [
    "# Unit_1 & 2 (Basics of Python)"
   ]
  },
  {
   "cell_type": "code",
   "execution_count": 7,
   "id": "ea635d4a",
   "metadata": {},
   "outputs": [
    {
     "name": "stdout",
     "output_type": "stream",
     "text": [
      "Enter two numbers\n",
      "5\n",
      "4\n",
      "Sum is 9\n"
     ]
    }
   ],
   "source": [
    "print (\"Enter two numbers\")\n",
    "a=int (input ())\n",
    "b=int(input ())\n",
    "c=a+b\n",
    "print(\"Sum is\", c)"
   ]
  },
  {
   "cell_type": "code",
   "execution_count": 106,
   "id": "2b9c994f",
   "metadata": {},
   "outputs": [
    {
     "name": "stdout",
     "output_type": "stream",
     "text": [
      "11\n",
      "10\n"
     ]
    }
   ],
   "source": [
    "######## swapping of two variables\n",
    "a=10\n",
    "b=11\n",
    "a,b=b,a\n",
    "print(a)\n",
    "print(b)"
   ]
  },
  {
   "cell_type": "code",
   "execution_count": 3,
   "id": "7fd06865",
   "metadata": {},
   "outputs": [
    {
     "name": "stdout",
     "output_type": "stream",
     "text": [
      "10  mychoice  20\n"
     ]
    }
   ],
   "source": [
    "######## seperators of your own choice\n",
    "\n",
    "\n",
    "a=10\n",
    "b=20\n",
    "print(a,b,sep='  mychoice  ')"
   ]
  },
  {
   "cell_type": "code",
   "execution_count": 2,
   "id": "95018f34",
   "metadata": {},
   "outputs": [
    {
     "name": "stdout",
     "output_type": "stream",
     "text": [
      "10$20&why this\n"
     ]
    }
   ],
   "source": [
    "a=10\n",
    "b=20\n",
    "c=9\n",
    "d=90\n",
    "print(a,b,sep='$',end='&')\n",
    "print('why this')"
   ]
  },
  {
   "cell_type": "code",
   "execution_count": 1,
   "id": "bb6e9f28",
   "metadata": {},
   "outputs": [
    {
     "name": "stdout",
     "output_type": "stream",
     "text": [
      "U\n",
      "O\n",
      "YOUTUBE\n",
      "TUBE\n",
      "EUUY\n",
      "YTE\n",
      "my &TUBE\n"
     ]
    }
   ],
   "source": [
    "######## index in python\n",
    "\n",
    "\n",
    "x=\"YOUTUBE\"\n",
    "print(x[4])\n",
    "print(x[-6])\n",
    "print(x[:10])    #agr beginning ki value specify na ho aur step ki alue positive h toh by default beginning ki value '0' consider krenge\n",
    "print(x[-4:])   \n",
    "print(x[::-2])   #iss step mein hamne start to end value print ki h prr hamare step ki value negative h toh hamari beginnig ki value last index to starting hoga\n",
    "print(x[::3])   \n",
    "print('my &'+x[3:7])"
   ]
  },
  {
   "cell_type": "code",
   "execution_count": 36,
   "id": "f17d1ab0",
   "metadata": {},
   "outputs": [
    {
     "name": "stdout",
     "output_type": "stream",
     "text": [
      "name:amankyadav\n",
      "no:7\n",
      "avamankyad\n",
      "\n",
      "detimil secivres noitacude ijris ym\n"
     ]
    }
   ],
   "source": [
    "######## slicing operators-->> wherever indexing is used we can use slicing operator to extract a particular part\n",
    "\n",
    "name=str(input('name:'))\n",
    "no=int(input('no:'))\n",
    "if len(name)>no:\n",
    "    print(name[-2:]+name[0:-2]) \n",
    "else:\n",
    "    print(\"slicing operation is not possible\")\n",
    "\n",
    "print()\n",
    "name='my sirji education services limited'\n",
    "print(name[-1::-1])"
   ]
  },
  {
   "cell_type": "code",
   "execution_count": 12,
   "id": "d2a1f262",
   "metadata": {},
   "outputs": [
    {
     "name": "stdout",
     "output_type": "stream",
     "text": [
      "[1, 12, 23, 43, 65, 78]\n",
      "[1, 12, 23, 89, 43, 65, 78]\n",
      "[1, 12, 23, 89, 43, 65, 78, 777]\n"
     ]
    }
   ],
   "source": [
    "\"\"\"\"\"list\"\"\"\"\" \n",
    "\n",
    "\n",
    "x=[1,12,23,43,65,78]\n",
    "print(x)\n",
    "x.insert(3,89) #inserting a no in list\n",
    "print(x)\n",
    "\n",
    "x.append(777)\n",
    "print(x)\n",
    "\n"
   ]
  },
  {
   "cell_type": "code",
   "execution_count": 17,
   "id": "41734fd8",
   "metadata": {},
   "outputs": [
    {
     "name": "stdout",
     "output_type": "stream",
     "text": [
      "43\n",
      "[2, 3, 4, 2, 3, 4, 2, 3, 4]\n",
      "[9, 7, 5, 3]\n"
     ]
    }
   ],
   "source": [
    "x=[1,12,23,43,65,78] #unpacking in list\n",
    "a,b,c,d,e,f=x\n",
    "print(d)\n",
    "\n",
    "\n",
    "y=[2,3,4]   \n",
    "print(y*3)    #repetition operator in list\n",
    "\n",
    "\n",
    "\n",
    "p=9\n",
    "q=7\n",
    "r=5\n",
    "s=3\n",
    "l1=[p,q,r,s]    #packing in list\n",
    "print(l1)\n"
   ]
  },
  {
   "cell_type": "code",
   "execution_count": 2,
   "id": "af6d016a",
   "metadata": {},
   "outputs": [
    {
     "name": "stdout",
     "output_type": "stream",
     "text": [
      "[10, 11, 12, 13, 14]\n"
     ]
    }
   ],
   "source": [
    "l=[k+9 for k in range(1,6)]     #list comprehension\n",
    "print(l)"
   ]
  },
  {
   "cell_type": "code",
   "execution_count": 2,
   "id": "3480fc90",
   "metadata": {},
   "outputs": [
    {
     "name": "stdout",
     "output_type": "stream",
     "text": [
      "[1, 98, 2, 35, 5, 19, 1, 12, 23, 9333, 43, 65, 78]\n",
      "6\n",
      "1\n",
      "98\n",
      "160\n",
      "[1, 2, 5, 19, 35, 98]\n",
      "[1, 12, 23, 43, 65, 78, 9333]\n"
     ]
    }
   ],
   "source": [
    "x=[1,98,2,35,5,19]\n",
    "y=[1,12,23,43,65,78]\n",
    "print(x+y)    #list concatenation\n",
    "print(len(x))      #tells us length of list\n",
    "print(min(x))     #min value in list\n",
    "print(max(x))     #max value in list\n",
    "print(sum(x))        #sum of list\n",
    "print(sorted(x))   #prints list in sorted order"
   ]
  },
  {
   "cell_type": "code",
   "execution_count": 6,
   "id": "e65b3a04",
   "metadata": {},
   "outputs": [
    {
     "name": "stdout",
     "output_type": "stream",
     "text": [
      "[1, 12, 23, 43, 65, 78]\n",
      "[1, 12, 23, 65, 78]\n"
     ]
    }
   ],
   "source": [
    "x=[1,12,23,43,65,78]\n",
    "print(x)\n",
    "x.remove(43)   #removing a no from list\n",
    "print(x)"
   ]
  },
  {
   "cell_type": "code",
   "execution_count": 11,
   "id": "f80ee267",
   "metadata": {},
   "outputs": [
    {
     "name": "stdout",
     "output_type": "stream",
     "text": [
      "[1, 12, 23, 43, 65, 78]\n",
      "[1, 12, 23, 65, 78]\n"
     ]
    }
   ],
   "source": [
    "x=[1,12,23,43,65,78]\n",
    "print(x)\n",
    "x.pop(3)    #another method of removing particular element\n",
    "print(x)"
   ]
  },
  {
   "cell_type": "code",
   "execution_count": 40,
   "id": "8d81a11c",
   "metadata": {},
   "outputs": [
    {
     "name": "stdout",
     "output_type": "stream",
     "text": [
      "[1, 12, 23, 43, 65, 78]\n",
      "[23, 43, 65, 78]\n"
     ]
    }
   ],
   "source": [
    "x=[1,12,23,43,65,78]\n",
    "print(x)\n",
    "del x[0:2]    #del multiple no with the help of index no\n",
    "print(x)"
   ]
  },
  {
   "cell_type": "code",
   "execution_count": 41,
   "id": "62623915",
   "metadata": {},
   "outputs": [
    {
     "name": "stdout",
     "output_type": "stream",
     "text": [
      "[1, 12, 23, 43, 65, 78]\n",
      "[1, 12, 23, 43, 65, 78, 2, 0, 99, 73]\n"
     ]
    }
   ],
   "source": [
    "x=[1,12,23,43,65,78]\n",
    "print(x)\n",
    "x.extend([2,0,99,73])   #for adding multiple value to list\n",
    "print(x)"
   ]
  },
  {
   "cell_type": "code",
   "execution_count": 43,
   "id": "f91c23e1",
   "metadata": {},
   "outputs": [
    {
     "name": "stdout",
     "output_type": "stream",
     "text": [
      "[1, 12, 23, 43, 65, 78]\n",
      "1\n"
     ]
    }
   ],
   "source": [
    "x=[1,12,23,43,65,78]\n",
    "print(x)\n",
    "print(min(x))    #for minimum value in the list"
   ]
  },
  {
   "cell_type": "code",
   "execution_count": 44,
   "id": "718fd17e",
   "metadata": {},
   "outputs": [
    {
     "name": "stdout",
     "output_type": "stream",
     "text": [
      "[1, 12, 23, 43, 65, 78]\n",
      "78\n"
     ]
    }
   ],
   "source": [
    "x=[1,12,23,43,65,78]\n",
    "print(x)  \n",
    "print(max(x))        #for maximum value in the list"
   ]
  },
  {
   "cell_type": "code",
   "execution_count": 5,
   "id": "0df2f460",
   "metadata": {},
   "outputs": [
    {
     "name": "stdout",
     "output_type": "stream",
     "text": [
      "[1, 79, 57, 12, 43, 65, 78]\n",
      "[1, 12, 43, 57, 65, 78, 79]\n",
      "[1, 12, 43, 57, 65, 78, 79]\n"
     ]
    }
   ],
   "source": [
    "x=[1,79,57,12,43,65,78]\n",
    "y=[1,79,57,12,43,65,78]\n",
    "print(x) \n",
    "x.sort()    #for sorting elements in list\n",
    "print(x)\n",
    "print(sorted(y))"
   ]
  },
  {
   "cell_type": "code",
   "execution_count": 1,
   "id": "9314b36b",
   "metadata": {},
   "outputs": [
    {
     "name": "stdout",
     "output_type": "stream",
     "text": [
      "[1, 79, 57, 12, 43, 65, 78]\n",
      "[]\n"
     ]
    }
   ],
   "source": [
    "x=[1,79,57,12,43,65,78]\n",
    "print(x)\n",
    "x.clear()      #for clearing or deleting all elements of list\n",
    "print(x)"
   ]
  },
  {
   "cell_type": "code",
   "execution_count": 2,
   "id": "a6a61eef",
   "metadata": {},
   "outputs": [
    {
     "name": "stdout",
     "output_type": "stream",
     "text": [
      "[1, 79, 57, 12, 43, 65, 78]\n",
      "[78, 65, 43, 12, 57, 79, 1]\n"
     ]
    }
   ],
   "source": [
    "x=[1,79,57,12,43,65,78]\n",
    "print(x)\n",
    "x.reverse()     #for reversing the order of list\n",
    "print(x)"
   ]
  },
  {
   "cell_type": "code",
   "execution_count": 3,
   "id": "2caa5792",
   "metadata": {},
   "outputs": [
    {
     "name": "stdout",
     "output_type": "stream",
     "text": [
      "[1, 79, 57, 12, 43, 65, 78]\n",
      "6\n"
     ]
    }
   ],
   "source": [
    "x=[1,79,57,12,43,65,78]\n",
    "print(x)\n",
    "k=x.index(78)   #to know the index of any element in list\n",
    "print(k)"
   ]
  },
  {
   "cell_type": "code",
   "execution_count": 6,
   "id": "c74615d7",
   "metadata": {},
   "outputs": [
    {
     "name": "stdout",
     "output_type": "stream",
     "text": [
      "{65, 1, 70, 43, 12, 78, 79, 57}\n",
      "[65, 1, 70, 43, 12, 78, 79, 57]\n",
      "<class 'dict'>\n",
      "\n",
      "{1, 65, 43, 12, 78, 79, 57}\n",
      "{1, 65, 43, 12, 78, 79, 57}\n",
      "\n",
      "Enter different no seperated by comma's:12,23,445,67\n",
      "[67, 12, 445, 23]\n",
      "\n",
      "True\n",
      "False\n",
      "False\n",
      "False\n"
     ]
    }
   ],
   "source": [
    "\"\"\"\"\"set\"\"\"\"\"\n",
    "# set -->> concatenation in set is not allowed\n",
    "# set -->> repetition in set is not allowed\n",
    "#set -->> supports comparision operators_____compares each and every element in set\n",
    "\n",
    "\n",
    "s={1, 79, 57, 12, 43, 65, 78, 70, 79}\n",
    "print(s)\n",
    "print(list(s))   #to remove duplicate element from list\n",
    "r={}\n",
    "print(type(r))   #empty set ko hmm dictionary consider krte h\n",
    "\n",
    "\n",
    "print()\n",
    "p=[1, 79, 57, 12, 43, 65, 78]\n",
    "print(set(p))\n",
    "q=(1, 79, 57, 12, 43, 65, 78)\n",
    "print(set(q))\n",
    "# print(list(1)) -->> through this way neither set nor list nor tuple can be created\n",
    "\n",
    "\n",
    "print()\n",
    "#writing a program based on set in a single line\n",
    "l1=list(set([int(x) for x in input(\"Enter different no seperated by comma's:\").split(',')]))\n",
    "print(l1)\n",
    "\n",
    "\n",
    "m={1, 79, 57, 12, 43, 65, 78, 70, 79}\n",
    "n={1, 78, 57, 12, 43, 65, 78, 70, 79}\n",
    "\n",
    "print()\n",
    "print(m==n)    #comparison operator\n",
    "print(m>n)\n",
    "print(m<n)\n",
    "print(m!=n)"
   ]
  },
  {
   "cell_type": "code",
   "execution_count": 32,
   "id": "224b00f9",
   "metadata": {},
   "outputs": [
    {
     "name": "stdout",
     "output_type": "stream",
     "text": [
      "65\n",
      "1\n",
      "57\n",
      "43\n",
      "12\n",
      "78\n",
      "79\n",
      "7\n",
      "1\n",
      "79\n",
      "[1, 12, 43, 57, 65, 78, 79]\n"
     ]
    }
   ],
   "source": [
    "k={1, 65, 43, 12, 78, 79, 57}\n",
    "for i in k:\n",
    "    print(i)\n",
    "print(len(k))\n",
    "print(min(k))\n",
    "print(max(k))\n",
    "print(sorted(k))    #always return sorted list of given elements"
   ]
  },
  {
   "cell_type": "code",
   "execution_count": 10,
   "id": "c034d675",
   "metadata": {},
   "outputs": [
    {
     "name": "stdout",
     "output_type": "stream",
     "text": [
      "{34, 99, 37, 86, 23, 57, 12}\n",
      "\n",
      "None\n",
      "None\n",
      "None\n",
      "None\n",
      "232\n",
      "None\n",
      "\n",
      "{91, 92}\n",
      "{88, 89, 90, 91, 92, 93, 94, 95}\n",
      "True\n",
      "True\n"
     ]
    }
   ],
   "source": [
    "#different functions in set\n",
    "s={12,34,57,86,99,37,23}\n",
    "print(s)\n",
    "\n",
    "\n",
    "print()\n",
    "print(s.add('232'))\n",
    "print(s.update((99,33)))     #to add value to set\n",
    "print(s.remove(12))\n",
    "print(s.discard(57))   #-->>discard is more better bcoz if we ask for removing any number that is present than it\n",
    "                                  # will remove it otherwise igone this command\n",
    "print(s.pop())     #to remove any value using pop function\n",
    "print(s.clear())    #it will create an empty set\n",
    "\n",
    "\n",
    "print()\n",
    "s1={91,92,93,94,95}\n",
    "s2={88,89,90,91,92}\n",
    "s3={91,92}\n",
    "print(s1.intersection(s2))\n",
    "print(s1.union(s2))\n",
    "print(s3.issubset(s2))\n",
    "print(s1.issuperset(s3))"
   ]
  },
  {
   "cell_type": "code",
   "execution_count": 55,
   "id": "582329fa",
   "metadata": {},
   "outputs": [
    {
     "name": "stdout",
     "output_type": "stream",
     "text": [
      "Enter a string:ui\n",
      "{'u', 'i'}\n",
      "\n",
      "Enter a string:aei\n",
      "{'i', 'a', 'e'}\n"
     ]
    }
   ],
   "source": [
    "#set comprehension\n",
    "s={x for x in str(input(\"Enter a string:\")) if x in \"aeiou\"}\n",
    "print(s)\n",
    "\n",
    "\n",
    "print()\n",
    "k=str(input(\"Enter a string:\"))    #-->>same as above qeustion just different is mthe way of doing!!!\n",
    "ss=[]\n",
    "for i in k:\n",
    "    if i in \"aeiou\":\n",
    "        ss.extend(i)\n",
    "print(set(ss))"
   ]
  },
  {
   "cell_type": "code",
   "execution_count": 8,
   "id": "7b89594d",
   "metadata": {},
   "outputs": [
    {
     "name": "stdout",
     "output_type": "stream",
     "text": [
      "amankyadav\n",
      "amankyadav will achieve it!\n",
      "\n",
      "amankyadavamankyadavamankyadav\n",
      "\n",
      "False\n",
      "True\n"
     ]
    }
   ],
   "source": [
    "\"\"\"string\"\"\"\n",
    "\n",
    "\n",
    "a=\"amankyadav\"\n",
    "a.isupper()\n",
    "print(a)\n",
    "b='will achieve it!'\n",
    "k=a,b\n",
    "print(a,b)         #concatenation of two strings\n",
    "\n",
    "print()\n",
    "print(a*3)      #repetition of str\n",
    "\n",
    "print()\n",
    "print(a>b)      #comparison operator in python basically compares the first letter on that basis it returns boooleans value\n",
    "print(a<b)"
   ]
  },
  {
   "cell_type": "code",
   "execution_count": 39,
   "id": "7f6e96ac",
   "metadata": {},
   "outputs": [
    {
     "name": "stdout",
     "output_type": "stream",
     "text": [
      "a\n",
      "m\n",
      "a\n",
      "n\n",
      "k\n",
      "y\n",
      "a\n",
      "d\n",
      "a\n",
      "v\n",
      "\n",
      "10\n",
      "a\n",
      "y\n",
      "\n",
      "['a', 'd', 'k', 'm', 'n', 'v', 'y']\n",
      "['50', '40', '30', '20', '10']\n"
     ]
    }
   ],
   "source": [
    "k=\"amankyadav\"\n",
    "n=\"10 20 30 40 50\"\n",
    "for i in k:      #for acessing one by one each nd every elemnt in str k\n",
    "    print(i)    \n",
    "    \n",
    "print()\n",
    "print(len(k))      #to find len of str\n",
    "print(min(k))      #to print min str that is present in the string\n",
    "print(max(k))       #to pprint max string that is present in the string\n",
    "\n",
    "\n",
    "\n",
    "print()\n",
    "print(sorted(set(k)))      #it will print our str in sorted format but in list\n",
    "nn=n.split()\n",
    "print(nn[::-1])"
   ]
  },
  {
   "cell_type": "code",
   "execution_count": 35,
   "id": "de06c59a",
   "metadata": {},
   "outputs": [
    {
     "name": "stdout",
     "output_type": "stream",
     "text": [
      "  a\n",
      "24\n",
      "2\n",
      "\n",
      "False\n",
      "False\n",
      "False\n",
      "\n",
      "my nAme is AmAn kuMAr yAdAv\n"
     ]
    }
   ],
   "source": [
    "x=\"my name is aman kuMar yadav\"\n",
    "y='123432123432'\n",
    "print(x[7],x[4])     #indexing works in str and every element including space gets their espective indexing no\n",
    "print(x.index(\"d\"))\n",
    "print(x.index(\" \"))\n",
    "\n",
    "print()\n",
    "print(x.isupper())\n",
    "print(x.islower())\n",
    "print(y.isdigit())\n",
    "\n",
    "print()\n",
    "l=x.replace(\"a\",'A')     #replcaing every element in string\n",
    "print(l)"
   ]
  },
  {
   "cell_type": "code",
   "execution_count": 37,
   "id": "36f02bb7",
   "metadata": {},
   "outputs": [
    {
     "name": "stdout",
     "output_type": "stream",
     "text": [
      "['my', 'name', 'is', 'aman', 'kumar', 'yadav']\n",
      "my_name_is_aman\n"
     ]
    }
   ],
   "source": [
    "\"\"\"\"\"format function is string\"\"\"\"\"\n",
    "\n",
    "\n",
    "#split funtion always returns list of string\n",
    "x=\"my name is aman kumar yadav\"\n",
    "print(x.split())\n",
    "\n",
    "#join works only when list of string is present as an argument\n",
    "k=['my','name','is','aman']\n",
    "print('_'.join(k))"
   ]
  },
  {
   "cell_type": "code",
   "execution_count": 94,
   "id": "c9c9ea5d",
   "metadata": {},
   "outputs": [
    {
     "name": "stdout",
     "output_type": "stream",
     "text": [
      "<class 'tuple'>\n",
      "(1, 2, 3, 4, 5) ('aman', 'shivam', 'om', 'rohit') () (10,) [10]\n",
      "rohit\n",
      "\n",
      "(77, 98, 2)\n"
     ]
    }
   ],
   "source": [
    "\"\"\"'''tuples'''\"\"\"\"\n",
    "\n",
    "\n",
    "#tuples -->> inx=dexing is same as in list\n",
    "\n",
    "#examples of tuple\n",
    "k=(1,2,3,4,5)\n",
    "l=(\"aman\",\"shivam\",\"om\",\"rohit\")\n",
    "m=()     #for empty tuple\n",
    "n=(10,)   #for single value tuple creation\n",
    "o=list(n)\n",
    "print(type(k))\n",
    "print(k,l,m,n,o)\n",
    "print(l[3])\n",
    "\n",
    "\n",
    "print()\n",
    "x=(1,77,98,2,29,30)\n",
    "print(x[-5:-2])    #using slicing operator in tupples"
   ]
  },
  {
   "cell_type": "code",
   "execution_count": 41,
   "id": "0bb317fd",
   "metadata": {},
   "outputs": [
    {
     "name": "stdout",
     "output_type": "stream",
     "text": [
      "1\n",
      "2\n",
      "3\n",
      "4\n",
      "5\n",
      "\n",
      "5\n",
      "-903\n",
      "907\n",
      "[-903, 9, 78, 88, 907]\n",
      "[907, 88, 78, 9, -903]\n",
      "\n",
      "False False True True\n",
      "\n",
      "1\n"
     ]
    }
   ],
   "source": [
    "l=(\"aman\",\"shivam\",\"om\",\"rohit\")\n",
    "k=(1,2,3,4,5)\n",
    "for i in k:\n",
    "    print(i)\n",
    "    i+=1\n",
    "    \n",
    "    \n",
    "print()\n",
    "\n",
    "#builtin function in tuples\n",
    "m=(9,88,78,907,-903)\n",
    "\n",
    "print(len(m))      #length of our tuples\n",
    "print(min(m))     \n",
    "print(max(m))\n",
    "print(sorted(m))     #sorted function returns list of our soretd tuple\n",
    "print(sorted(m,reverse=True))  \n",
    "\n",
    "\n",
    "print()\n",
    "t1=(9,8,0)\n",
    "t2=(7,9,88)\n",
    "print(t1==t2,t1<t2,t1>t2,t1!=t2)     #comparison operators in tuple mein 1st element ko compare krenge\n",
    "\n",
    "\n",
    "print()\n",
    "t2=(1,97,3,4,5)\n",
    "print(t2.index(97))     #index no batayega\n"
   ]
  },
  {
   "cell_type": "code",
   "execution_count": 65,
   "id": "292f6188",
   "metadata": {},
   "outputs": [
    {
     "name": "stdout",
     "output_type": "stream",
     "text": [
      "(0, 1, 2, 3, 4, 5, 6, 7, 8, 9, 10, 11)\n",
      "{12, 13, 14, 15, 16, 17, 18, 19, 20, 21, 22, 23}\n",
      "[0, 1, 2, 3, 4, 5, 6, 7, 8, 9, 10, 11, 12, 13, 14, 15, 16, 17, 18, 19, 20, 21, 22, 23, 24]\n",
      "(12, 16, 20, 24, 28, 32, 36, 40, 44, 48)\n",
      "[25, 34, 43, 52, 61, 70, 79, 88, 97]\n"
     ]
    }
   ],
   "source": [
    "\"\"\"\"range\"\"\"\" \n",
    "\n",
    "\n",
    "print(tuple(range(12)))\n",
    "print(set(range(12,24)))\n",
    "print(list(range(25)))\n",
    "#\n",
    "print(tuple(range(12,50,4)))\n",
    "print(list(range(25,100,9)))"
   ]
  },
  {
   "cell_type": "code",
   "execution_count": 59,
   "id": "667d3550",
   "metadata": {},
   "outputs": [
    {
     "name": "stdout",
     "output_type": "stream",
     "text": [
      "9\n",
      "7.0\n",
      "(9.7+7j)\n",
      "True\n",
      "False\n"
     ]
    }
   ],
   "source": [
    "\"\"\"\"\"datatypes in python\"\"\"\"\"\n",
    "\n",
    "\n",
    "x=9.7\n",
    "y=7\n",
    "print(int(x))  #for integers from float\n",
    "print(float(y))     #for float from integers\n",
    "print(complex(x,y))   #creating complex no\n",
    "print(x>y)    #boolean type that print true or false as per condition\n",
    "print(x<y)  "
   ]
  },
  {
   "cell_type": "code",
   "execution_count": 44,
   "id": "98ae911c",
   "metadata": {},
   "outputs": [
    {
     "name": "stdout",
     "output_type": "stream",
     "text": [
      "{1: 'Navin', 77: 'Kiran', 'dog': 'Harsh'}\n",
      "Navin\n",
      "Harsh\n",
      "Harsh\n",
      "{1: 'Navin', 77: 'Kiran', 'dog': 'Harsh'}\n",
      "not found\n"
     ]
    }
   ],
   "source": [
    "\"\"\"\"dictionary\"\"\"\n",
    "# -->> in dictionary indexing is not applicable_but it is iterable\n",
    "# -->> in dictionary we cannot have duplicate keys but we can have duplicate value\n",
    "# -->> in dictionary slicing operator is not possible\n",
    "# -->> dictionary concatenation and repetition is not allowed\n",
    "# -->> comparision operator is not supportyed except  equality operators i.e. \"==\",\"!=\"\n",
    "\n",
    "\n",
    "d={1: 'Navin', 77: 'Kiran', 'dog': 'Harsh'}\n",
    "print(d)\n",
    "print(d[1])\n",
    "print(d['dog'])\n",
    "\n",
    "print(d.get('dog'))    #to fetch data\n",
    "print(d)\n",
    "print(d.get(59,'not found'))   #if  that particular key is misiing than it will print not found"
   ]
  },
  {
   "cell_type": "code",
   "execution_count": 9,
   "id": "2937ed10",
   "metadata": {},
   "outputs": [
    {
     "name": "stdout",
     "output_type": "stream",
     "text": [
      "{1: 'Navin', 77: 'Kiran', 'dog': 'Harsh'}\n",
      "Navin\n",
      "Harsh\n",
      "{1: 'Navin', 77: 'Kiran'}\n"
     ]
    }
   ],
   "source": [
    "d={1: 'Navin', 77: 'Kiran', 'dog': 'Harsh'}\n",
    "print(d)\n",
    "print(d[1])  #to access particular value using keys\n",
    "print(d.pop('dog'))    #to remove particular element and to print it\n",
    "print(d)"
   ]
  },
  {
   "cell_type": "code",
   "execution_count": 11,
   "id": "18336c2e",
   "metadata": {},
   "outputs": [
    {
     "name": "stdout",
     "output_type": "stream",
     "text": [
      "{'Navin': 'Python', 'Kiran': 'Java', 'Harsh': 'JS'}\n"
     ]
    }
   ],
   "source": [
    "keys = ['Navin', 'Kiran', 'Harsh']\n",
    "values = ['Python', 'Java', 'JS']\n",
    "\"\"\"printing dictionary\"\"\"\n",
    "dic=dict(zip(keys,values))   #creating dictionary\n",
    "print(dic)"
   ]
  },
  {
   "cell_type": "code",
   "execution_count": 43,
   "id": "b62f5e86",
   "metadata": {},
   "outputs": [
    {
     "name": "stdout",
     "output_type": "stream",
     "text": [
      "{'Navin': 'Python', 'Kiran': 'Java', 'Harsh': 'JS'}\n",
      "{'Navin': 'Python', 'Kiran': 'Java', 'Harsh': 'JS', 'Monika': 'why'}\n"
     ]
    }
   ],
   "source": [
    "keys = ['Navin', 'Kiran', 'Harsh']\n",
    "values = ['Python', 'Java', 'JS']\n",
    "dic=dict(zip(keys,values))\n",
    "print(dic)\n",
    "dic['Monika']='why'    #adding element to dictionary\n",
    "print(dic)"
   ]
  },
  {
   "cell_type": "code",
   "execution_count": 44,
   "id": "dc28a05c",
   "metadata": {},
   "outputs": [
    {
     "name": "stdout",
     "output_type": "stream",
     "text": [
      "{'Navin': 'Python', 'Kiran': 'Java', 'Harsh': 'JS'}\n",
      "{'Navin': 'Python', 'Harsh': 'JS'}\n"
     ]
    }
   ],
   "source": [
    "keys = ['Navin', 'Kiran', 'Harsh']\n",
    "values = ['Python', 'Java', 'JS']\n",
    "dic=dict(zip(keys,values))\n",
    "print(dic)\n",
    "del dic['Kiran']    #adding element to dictionary\n",
    "print(dic)"
   ]
  },
  {
   "cell_type": "code",
   "execution_count": 1,
   "id": "03f2f88b",
   "metadata": {},
   "outputs": [
    {
     "name": "stdout",
     "output_type": "stream",
     "text": [
      "{'Navin': 'Python', 'Kiran': 'Java', 'Harsh': 'JS'}\n",
      "dict_keys(['Navin', 'Kiran', 'Harsh'])\n",
      "dict_values(['Python', 'Java', 'JS'])\n",
      "dict_items([('Navin', 'Python'), ('Kiran', 'Java'), ('Harsh', 'JS')])\n",
      "\n",
      "Navin\n",
      "Python\n",
      "('Navin', 'Python')\n",
      "Kiran\n",
      "Java\n",
      "('Kiran', 'Java')\n",
      "Harsh\n",
      "JS\n",
      "('Harsh', 'JS')\n",
      "\n",
      "{1: 1, 2: 8, 3: 27, 4: 64, 5: 125}\n"
     ]
    }
   ],
   "source": [
    "keys = ['Navin', 'Kiran', 'Harsh']\n",
    "values = ['Python', 'Java', 'JS']\n",
    "dic=dict(zip(keys,values))\n",
    "print(dic)\n",
    "print(dic.keys())   #for printing keys in dic\n",
    "print(dic.values())    # for printing values in dic\n",
    "print(dic.items())   #for printing items in dic\n",
    "\n",
    "print()\n",
    "keys = ['Navin', 'Kiran', 'Harsh']\n",
    "values = ['Python', 'Java', 'JS']\n",
    "dic=dict(zip(keys,values))\n",
    "for i in dic.items():\n",
    "    for j in i:\n",
    "        print(j)\n",
    "    print(i)\n",
    "    \n",
    "print()\n",
    "\n",
    "# -->>> dictionary comprehension\n",
    "\n",
    "print({a:a**3 for a in range(1,6)})"
   ]
  },
  {
   "cell_type": "code",
   "execution_count": 14,
   "id": "36964e3d",
   "metadata": {},
   "outputs": [
    {
     "name": "stdout",
     "output_type": "stream",
     "text": [
      "Atom\n",
      "['Pycharm', 'Sublime']\n",
      "Sublime\n",
      "{'JSE': 'Netbeans', 'JEE': 'Eclipse'}\n",
      "Eclipse\n"
     ]
    }
   ],
   "source": [
    "p= {'JS': 'Atom','CS': 'VS', 'Python': ['Pycharm', 'Sublime'], 'Java': {'JSE': 'Netbeans', 'JEE': 'Eclipse'}}\n",
    "print(p[\"JS\"])\n",
    "print(p[\"Python\"])\n",
    "print(p[\"Python\"][1])\n",
    "print(p[\"Java\"])\n",
    "print(p[\"Java\"]['JEE'])"
   ]
  },
  {
   "cell_type": "code",
   "execution_count": 45,
   "id": "cc9e6cb9",
   "metadata": {},
   "outputs": [
    {
     "name": "stdout",
     "output_type": "stream",
     "text": [
      "x+y:  15\n",
      "x-y:  5\n",
      "x*y:  50\n",
      "x/y:  2.0\n",
      "x//y:  2\n",
      "x%y: 0\n"
     ]
    }
   ],
   "source": [
    "######## operators in python\n",
    "\n",
    "\n",
    "\"\"\"arithmetic operatos\"\"\"\n",
    "x=10\n",
    "y=5\n",
    "print(\"x+y: \",x+y) #addition\n",
    "print('x-y: ',x-y)   #substraction\n",
    "print('x*y: ',x*y)   #multiplication\n",
    "print(\"x/y: \",x/y)   #division\n",
    "print(\"x//y: \",x//y)    #doublle floor division --> for writing quotient\n",
    "print(\"x%y:\",x%y)   #for finding remainder"
   ]
  },
  {
   "cell_type": "code",
   "execution_count": 82,
   "id": "ef4220ea",
   "metadata": {},
   "outputs": [
    {
     "name": "stdout",
     "output_type": "stream",
     "text": [
      "x=x+y x+=y:  10\n",
      "x=x-y x-=y:  8\n",
      "x=x*y x*=y:  16\n",
      "x=x/y x/=y:  8.0\n"
     ]
    }
   ],
   "source": [
    "\"\"\"assignment operators\"\"\"\n",
    "\n",
    "# assignment operators are +=,-+,*=,/=\n",
    "x=8\n",
    "y=2\n",
    "x+=y\n",
    "print (\"x=x+y x+=y: \",x) \n",
    "x-=y\n",
    "print('x=x-y x-=y: ',x) \n",
    "x*=y\n",
    "print('x=x*y x*=y: ',x)  \n",
    "x/=y\n",
    "print(\"x=x/y x/=y: \",x)   \n"
   ]
  },
  {
   "cell_type": "code",
   "execution_count": 84,
   "id": "c0c0ce9e",
   "metadata": {},
   "outputs": [
    {
     "name": "stdout",
     "output_type": "stream",
     "text": [
      "-9\n",
      "-12\n"
     ]
    }
   ],
   "source": [
    "\"\"\"unary operator\"\"\"\n",
    "x=9\n",
    "print(-x)   #just make the positive no in negative no\n",
    "y=12\n",
    "x=-y\n",
    "print(x)"
   ]
  },
  {
   "cell_type": "code",
   "execution_count": 87,
   "id": "f798a48d",
   "metadata": {},
   "outputs": [
    {
     "name": "stdout",
     "output_type": "stream",
     "text": [
      "True\n",
      "False\n",
      "False\n",
      "True\n",
      "True\n",
      "False\n"
     ]
    }
   ],
   "source": [
    "\"\"\"relational operator\"\"\"\n",
    "\n",
    "# relational operators are <,>,<=,>=,==,!=\n",
    "x=9\n",
    "y=7\n",
    "print(x>y)\n",
    "print(x<y)\n",
    "a=7\n",
    "b=4\n",
    "print(a<=b)\n",
    "print(a>=b)\n",
    "c=4\n",
    "d=4\n",
    "print(c==d)\n",
    "print(c!=d)"
   ]
  },
  {
   "cell_type": "code",
   "execution_count": 48,
   "id": "453f0750",
   "metadata": {},
   "outputs": [
    {
     "name": "stdout",
     "output_type": "stream",
     "text": [
      "True\n",
      "False\n",
      "False\n",
      "False\n",
      "True\n",
      "True\n",
      "False\n",
      "True\n"
     ]
    }
   ],
   "source": [
    "\"\"\"logical operators\"\"\"\n",
    "\n",
    "# logical operators are 'and','or','not'\n",
    "a=7\n",
    "b=2\n",
    "print(a>b and b<a)\n",
    "print(a<b and b>a)\n",
    "print(a>b and b>a)\n",
    "print(a<b or b>a)\n",
    "print(a>b or b>a)\n",
    "print(a>b or b<a)\n",
    "\n",
    "\n",
    "x=False\n",
    "print(x)\n",
    "print(not x)"
   ]
  },
  {
   "cell_type": "code",
   "execution_count": 10,
   "id": "f5e09836",
   "metadata": {},
   "outputs": [
    {
     "name": "stdout",
     "output_type": "stream",
     "text": [
      "True\n",
      "False\n"
     ]
    }
   ],
   "source": [
    "\"\"\"membership operators\"\"\"\n",
    "\n",
    "#membership operators('in' and 'not in') are used to check whether elemnt is present or not and returns a boolean value i.e. 'True','False'\n",
    "x=[1,79,57,12,43,65,78]\n",
    "print(65 in x)     #if present it will print \"True\" else \"False\"\n",
    "print(65 not in x)         #if not present it will print \"True\" else \"False\""
   ]
  },
  {
   "cell_type": "code",
   "execution_count": 105,
   "id": "122879ed",
   "metadata": {},
   "outputs": [
    {
     "name": "stdout",
     "output_type": "stream",
     "text": [
      "0b111\n",
      "11\n",
      "0o14\n",
      "14\n",
      "0x9\n",
      "9\n"
     ]
    }
   ],
   "source": [
    "######## number system conversions\n",
    "\n",
    "x=7\n",
    "print(bin(x))\n",
    "print(bin(x)[3:]) #bin reperesent binary format\n",
    "\n",
    "y=12\n",
    "print(oct(y))   #oct represents octal form\n",
    "print(oct(y)[2:])\n",
    "\n",
    "a=9\n",
    "print(hex(a))    #hex represents hexadecimal form\n",
    "print(hex(a)[2:])"
   ]
  },
  {
   "cell_type": "code",
   "execution_count": 117,
   "id": "92d4ef27",
   "metadata": {},
   "outputs": [
    {
     "name": "stdout",
     "output_type": "stream",
     "text": [
      "-13\n",
      "-46\n",
      "8\n",
      "34\n",
      "63\n",
      "40\n",
      "2\n"
     ]
    }
   ],
   "source": [
    "####### bitwise operators And(&), Or(|), Xor(^)\n",
    "\n",
    "a=12         #bitwise complement(~)____execution is based on binary form  { bin(12) ko ~1 lekar+1 krte h}\n",
    "print(~a)\n",
    "b=45\n",
    "print(~b)\n",
    "\n",
    "x=12\n",
    "y=9\n",
    "print(x&y)     #bitwise And(&)____execution is based on binary form  { bin(12) and  bin(9) ke bin form \n",
    "                                            #ko add krte waqt 1+0=0 lenge and 1+1=1}\n",
    "\n",
    "\n",
    "c=34\n",
    "d=2\n",
    "print(c|d)      #bitwise Or(|)____execution is based on binary form {bin(34) and bin(2) ke bin form ko\n",
    "                                            #krte waqt 1+0=1, 1+1=1 lenge}\n",
    "\n",
    "e=56\n",
    "f=7\n",
    "print(e^f)       #bitwise Xor(^)____execution is based on binary form {bin(56) and bin(7) ke bin form ko \n",
    "                            #upside likhne ke baad jb compare krenge toh 0 0=0, 1 0=1, 0 1=1, 1 1=0 }\n",
    "\n",
    "\n",
    "print(10<<2)      #bitwise leftshift(<<)____execution is based on binary form {we gains 2 bits at the end}\n",
    "\n",
    "\n",
    "print(10>>2)      #bitwise rightshift(<<)____execution is based on binary form {we lose 2 bits at the end}"
   ]
  },
  {
   "cell_type": "code",
   "execution_count": 11,
   "id": "2c4b4385",
   "metadata": {},
   "outputs": [
    {
     "name": "stdout",
     "output_type": "stream",
     "text": [
      "5.0\n",
      "1.7320508075688772\n",
      "2\n",
      "3\n",
      "81.0\n",
      "3.141592653589793\n",
      "2.0\n"
     ]
    }
   ],
   "source": [
    "###### import math functions in python\n",
    "\n",
    "import math\n",
    "x=25\n",
    "y=math.sqrt(25)\n",
    "print(y)\n",
    "print(math.sqrt(3))\n",
    "\n",
    "\n",
    "z=2.3\n",
    "print(math.floor(z))   #floor mean lower value\n",
    "print(math.ceil(z))    #ceil mean higher posiible value\n",
    "\n",
    "a=3\n",
    "b=4\n",
    "print(math.pow(a,b))\n",
    "\n",
    "print(math.pi)\n",
    "\n",
    "import math as m\n",
    "print(m.sqrt(4))"
   ]
  },
  {
   "cell_type": "code",
   "execution_count": 14,
   "id": "e84189cb",
   "metadata": {},
   "outputs": [
    {
     "name": "stdout",
     "output_type": "stream",
     "text": [
      "enter a no:7\n",
      "enter a no:8.8\n",
      "sum: 15\n"
     ]
    }
   ],
   "source": [
    "###### user inpput in python\n",
    "a=int(input('enter a no:'))\n",
    "b=float(input('enter a no:'))\n",
    "c=a+int(b)\n",
    "print('sum:',c)"
   ]
  },
  {
   "cell_type": "code",
   "execution_count": 10,
   "id": "c5ca42de",
   "metadata": {},
   "outputs": [
    {
     "name": "stdout",
     "output_type": "stream",
     "text": [
      "Bye\n",
      "x:9\n",
      "9 is a positive number\n"
     ]
    }
   ],
   "source": [
    "\"\"\"decisiion control in python\"\"\"\n",
    "\n",
    "\n",
    "x=-21 \n",
    "if x>0:\n",
    "    print(\"Hello\")        #if block\n",
    "    print(\"MySirG\")\n",
    "print (\"Bye\")\n",
    "\n",
    "\n",
    "\n",
    "x=int(input('x:'))\n",
    "if x>=0:\n",
    "    print(x,\"is a positive number\")         #if block\n",
    "if x<0:\n",
    "    print(x,'is non-positive number')"
   ]
  },
  {
   "cell_type": "code",
   "execution_count": 6,
   "id": "940ee6ad",
   "metadata": {},
   "outputs": [
    {
     "name": "stdout",
     "output_type": "stream",
     "text": [
      "marks:44\n",
      "Grade F\n"
     ]
    }
   ],
   "source": [
    "marks=int(input('marks:'))\n",
    "if 90<marks<=100:\n",
    "    print(\"Grade A\")\n",
    "elif 80<marks<=90:\n",
    "    print(\"Grade B\")\n",
    "elif 70<marks<=80:\n",
    "    print(\"Grade C\")             #if elif block\n",
    "elif 60<marks<=70:\n",
    "    print(\"Grade D\")\n",
    "elif 50<=marks<=60:\n",
    "    print(\"Grade E\")\n",
    "else:\n",
    "    print(\"Grade F\")\n"
   ]
  },
  {
   "cell_type": "code",
   "execution_count": 5,
   "id": "07f28070",
   "metadata": {},
   "outputs": [
    {
     "name": "stdout",
     "output_type": "stream",
     "text": [
      "x:9\n",
      "9 is a positive number\n"
     ]
    }
   ],
   "source": [
    "x=int(input('x:'))\n",
    "if x>=0:\n",
    "    print(x,\"is a positive number\")       #if else block\n",
    "else:\n",
    "    print(x,'is non-positive number')"
   ]
  },
  {
   "cell_type": "code",
   "execution_count": 7,
   "id": "8f78a35a",
   "metadata": {},
   "outputs": [
    {
     "name": "stdout",
     "output_type": "stream",
     "text": [
      "k:-9\n",
      "odd\n"
     ]
    }
   ],
   "source": [
    "# if else block in single line\n",
    "print(\"even\" if int(input('k:'))%2==0 else \"odd\")\n"
   ]
  },
  {
   "cell_type": "code",
   "execution_count": 38,
   "id": "5c031022",
   "metadata": {},
   "outputs": [
    {
     "name": "stdout",
     "output_type": "stream",
     "text": [
      "n:8\n",
      "mySirG\n",
      "mySirG\n",
      "mySirG\n",
      "mySirG\n",
      "mySirG\n"
     ]
    }
   ],
   "source": [
    "\"\"\"while loop\"\"\"\n",
    "\n",
    "n=int(input('n:'))\n",
    "i=1\n",
    "av=5\n",
    "while i<=n:\n",
    "    if i<=av:\n",
    "        print('mySirG')\n",
    "    i+=1"
   ]
  },
  {
   "cell_type": "code",
   "execution_count": null,
   "id": "12880430",
   "metadata": {},
   "outputs": [],
   "source": [
    "n=int(input('n:'))\n",
    "i=1\n",
    "j=1\n",
    "while i<=n:\n",
    "        print('mySirG')\n",
    "        while j<=3:\n",
    "            print('ok')\n",
    "        i+=1"
   ]
  },
  {
   "cell_type": "code",
   "execution_count": 1,
   "id": "d1a1f35e",
   "metadata": {},
   "outputs": [
    {
     "name": "stdout",
     "output_type": "stream",
     "text": [
      "n:9\n",
      "1 2 3 4 5 6 7 8 9 "
     ]
    }
   ],
   "source": [
    "#program to write n no\n",
    "n=int(input('n:'))\n",
    "i=1\n",
    "while i<=n:\n",
    "    print(i,end=' ')\n",
    "    i+=1"
   ]
  },
  {
   "cell_type": "code",
   "execution_count": 5,
   "id": "4392bbec",
   "metadata": {},
   "outputs": [
    {
     "name": "stdout",
     "output_type": "stream",
     "text": [
      "n:5\n",
      "sum: 15\n"
     ]
    }
   ],
   "source": [
    "#program to write sum of n no\n",
    "n=int(input('n:'))\n",
    "i=1\n",
    "sum=0\n",
    "while i<=n:\n",
    "    sum+=i\n",
    "    i+=1\n",
    "print('sum:',sum)"
   ]
  },
  {
   "cell_type": "code",
   "execution_count": null,
   "id": "aedbb056",
   "metadata": {},
   "outputs": [],
   "source": [
    "\"\"\"break in loop\"\"\"\n",
    "n=int(input('n:'))\n",
    "i=2\n",
    "while i<n:\n",
    "    if n%i==0:\n",
    "        break\n",
    "    i+=1\n",
    "if i==n:\n",
    "    print(\"prime\")\n",
    "else:\n",
    "    print(\"not prime\")"
   ]
  },
  {
   "cell_type": "code",
   "execution_count": 3,
   "id": "92fd5bdc",
   "metadata": {},
   "outputs": [
    {
     "name": "stdout",
     "output_type": "stream",
     "text": [
      "n:72\n",
      "not prime\n"
     ]
    }
   ],
   "source": [
    "n=int(input('n:'))\n",
    "i=2\n",
    "while i<n:\n",
    "    if n%i==0:\n",
    "        print(\"not prime\")\n",
    "        break\n",
    "    i+=1\n",
    "else:\n",
    "    print(\"prime\")   "
   ]
  },
  {
   "cell_type": "code",
   "execution_count": 5,
   "id": "fb5b61e5",
   "metadata": {},
   "outputs": [
    {
     "name": "stdout",
     "output_type": "stream",
     "text": [
      "m 109\n",
      "y 121\n",
      "S 83\n",
      "i 105\n",
      "r 114\n",
      "G 71\n"
     ]
    }
   ],
   "source": [
    "\"\"\"for loop\"\"\"\n",
    "x=\"mySirG\"\n",
    "for a in x:\n",
    "    print(a,ord(a))\n",
    "    \n",
    "    "
   ]
  },
  {
   "cell_type": "code",
   "execution_count": 4,
   "id": "caa5b220",
   "metadata": {},
   "outputs": [
    {
     "name": "stdout",
     "output_type": "stream",
     "text": [
      "Pizza Order:l\n",
      "large size: 300\n",
      "Peperoni: 50\n"
     ]
    }
   ],
   "source": [
    "p=input('Pizza Order:')\n",
    "if p='s':\n",
    "    s=100\n",
    "    print(\"small size:\",s)\n",
    "    peperoni=30\n",
    "    cheese=20\n",
    "    if(peperoni):\n",
    "        print('Peperoni:',peperoni)\n",
    "    elif(cheese):\n",
    "        print(\"Cheese:\",cheese)\n",
    "\n",
    "elif p=='m':\n",
    "    m=200\n",
    "    print('medium size:',m)\n",
    "    peperoni=50\n",
    "    cheese=20\n",
    "    if(peperoni):\n",
    "        print('Peperoni:',peperoni)\n",
    "    elif(cheese):\n",
    "        print(\"Cheese:\",cheese)\n",
    "elif p=='l':\n",
    "    l=300\n",
    "    print('large size:',l)\n",
    "    peperoni=50\n",
    "    cheese=20\n",
    "    if(peperoni):\n",
    "        print('Peperoni:',peperoni)\n",
    "    elif(cheese):\n",
    "        print(\"Cheese:\",cheese)"
   ]
  },
  {
   "cell_type": "code",
   "execution_count": 7,
   "id": "62693f3f",
   "metadata": {},
   "outputs": [
    {
     "name": "stdout",
     "output_type": "stream",
     "text": [
      "n:90\n",
      "Buy\n",
      "Buy\n",
      "Buy\n",
      "Buy\n",
      "Buy\n",
      "Buy\n",
      "Buy\n",
      "Buy\n",
      "Buy\n",
      "Buy\n",
      "Out of Stock\n"
     ]
    }
   ],
   "source": [
    "# break\n",
    "n=int(input('n:'))\n",
    "i=1\n",
    "av=10\n",
    "while i<=n:\n",
    "    if i>av:\n",
    "        print(\"Out of Stock\")\n",
    "        break     #break to end the program\n",
    "    print('Buy')\n",
    "    i+=1"
   ]
  },
  {
   "cell_type": "code",
   "execution_count": null,
   "id": "c0a55d70",
   "metadata": {},
   "outputs": [],
   "source": [
    "#continue\n",
    "for i in range(1,50):\n",
    "    if i%3==0 or i%5==0:\n",
    "        continue     #continue basically skip the program\n",
    "    print(i*2)"
   ]
  },
  {
   "cell_type": "code",
   "execution_count": 12,
   "id": "470b5c16",
   "metadata": {},
   "outputs": [
    {
     "name": "stdout",
     "output_type": "stream",
     "text": [
      "2\n",
      "4\n",
      "6\n",
      "8\n",
      "10\n",
      "12\n",
      "14\n",
      "16\n",
      "18\n",
      "20\n",
      "22\n",
      "24\n",
      "26\n",
      "28\n",
      "30\n",
      "32\n",
      "34\n",
      "36\n",
      "38\n",
      "40\n",
      "42\n",
      "44\n",
      "46\n",
      "48\n"
     ]
    }
   ],
   "source": [
    "#pass\n",
    "for i in range(1,50):\n",
    "    if(i%2!=0):\n",
    "        pass     #pass simply means there is no code ignore it\n",
    "    else:\n",
    "        print(i)"
   ]
  },
  {
   "cell_type": "code",
   "execution_count": 24,
   "id": "1278811f",
   "metadata": {},
   "outputs": [
    {
     "name": "stdout",
     "output_type": "stream",
     "text": [
      "nai\n",
      "7\n",
      "ok\n",
      "why\n",
      "0\n",
      "13\n",
      "lost\n",
      "4341928280\n",
      "4341928224\n",
      "4341929176\n",
      "4341928168\n",
      "4341928056\n",
      "4341929120\n",
      "4341928504\n",
      "4341928840\n",
      "4341928784\n",
      "1\n",
      "6\n",
      "11\n",
      "16\n",
      "21\n",
      "1\n",
      "11\n",
      "21\n",
      "31\n",
      "41\n",
      "51\n",
      "61\n",
      "71\n",
      "81\n",
      "91\n"
     ]
    }
   ],
   "source": [
    "\"\"\"for loop\"\"\"\n",
    "x=['nai',7,'ok','why',0,13,'lost']\n",
    "for i in x:     #for loop is used to fetch values\n",
    "    print(i)\n",
    "    \n",
    "    \n",
    "x='EDUCATION'\n",
    "for i in x:\n",
    "    print(id(i))\n",
    "    \n",
    "    \n",
    "for i in range(1,25,5):\n",
    "    print(i)\n",
    "    \n",
    "    \n",
    "for i in range(1,100,5):\n",
    "    if(i%2==0):\n",
    "        continue\n",
    "    print(i)"
   ]
  },
  {
   "cell_type": "code",
   "execution_count": null,
   "id": "ecb67492",
   "metadata": {},
   "outputs": [],
   "source": [
    "x=int(input(\"x:\"))\n",
    "for i in range(1,x+1):\n",
    "    if(x%5==0):\n",
    "        print(x)\n",
    "        break\n",
    "    else:\n",
    "        print('end of the program')\n",
    "    break"
   ]
  },
  {
   "cell_type": "code",
   "execution_count": 1,
   "id": "d1b989cc",
   "metadata": {},
   "outputs": [
    {
     "name": "stdout",
     "output_type": "stream",
     "text": [
      "x:8\n",
      "8 NOT PRIME\n"
     ]
    }
   ],
   "source": [
    "#prime numbers\n",
    "x=int(input(\"x:\"))\n",
    "i=2\n",
    "while i<x:\n",
    "    if(x%i==0):\n",
    "        print(x,\"NOT PRIME\")\n",
    "        break\n",
    "    else:\n",
    "        print(x,\"PRIME\")\n",
    "        break"
   ]
  },
  {
   "cell_type": "code",
   "execution_count": 2,
   "id": "32a07feb",
   "metadata": {},
   "outputs": [
    {
     "name": "stdout",
     "output_type": "stream",
     "text": [
      "x:11\n",
      "11 PRIME\n"
     ]
    }
   ],
   "source": [
    "x=int(input(\"x:\"))\n",
    "for i in range(2,x):\n",
    "    if(x%i==0):\n",
    "        print(x,\"NOT PRIME\")\n",
    "        break\n",
    "    else:\n",
    "        print(x,\"PRIME\")\n",
    "        break"
   ]
  },
  {
   "cell_type": "code",
   "execution_count": 1,
   "id": "3d3bfd97",
   "metadata": {},
   "outputs": [
    {
     "name": "stdout",
     "output_type": "stream",
     "text": [
      "########\n",
      "* * * * \n",
      "* * * * \n",
      "* * * * "
     ]
    }
   ],
   "source": [
    "\"\"\"printing patterns in python\"\"\"\n",
    "print(('#')*8)\n",
    "\n",
    "\n",
    "for i in range(4):\n",
    "    print(\"* \",end=\"\")\n",
    "print()\n",
    "for i in range(4):\n",
    "    print(\"* \",end=\"\")\n",
    "print()\n",
    "for i in range(4):\n",
    "    print(\"* \",end=\"\")"
   ]
  },
  {
   "cell_type": "code",
   "execution_count": 20,
   "id": "d3a04096",
   "metadata": {},
   "outputs": [
    {
     "name": "stdout",
     "output_type": "stream",
     "text": [
      "* * * * \n",
      "* * * * \n",
      "* * * * \n",
      "* * * * \n"
     ]
    }
   ],
   "source": [
    "for i in range(4):\n",
    "    for j in range(4):\n",
    "        print(\"* \",end=\"\")\n",
    "    print()"
   ]
  },
  {
   "cell_type": "code",
   "execution_count": 37,
   "id": "0a6fe21c",
   "metadata": {},
   "outputs": [
    {
     "name": "stdout",
     "output_type": "stream",
     "text": [
      "$ \n",
      "$ $ \n",
      "$ $ $ \n",
      "$ $ $ $ \n"
     ]
    }
   ],
   "source": [
    "for i in range(1,5):\n",
    "    for j in range(i):\n",
    "        print(\"$ \",end=\"\")\n",
    "    print()"
   ]
  },
  {
   "cell_type": "code",
   "execution_count": 30,
   "id": "874566b3",
   "metadata": {},
   "outputs": [
    {
     "name": "stdout",
     "output_type": "stream",
     "text": [
      "* * * * \n",
      "* * * \n",
      "* * \n",
      "* \n"
     ]
    }
   ],
   "source": [
    "for i in range(4):\n",
    "    for j in range(4-i):\n",
    "        print(\"* \",end=\"\")\n",
    "    print()"
   ]
  },
  {
   "cell_type": "code",
   "execution_count": 3,
   "id": "eb0a6fd5",
   "metadata": {},
   "outputs": [
    {
     "name": "stdout",
     "output_type": "stream",
     "text": [
      "year:2017\n",
      "2017 is not a leap year\n"
     ]
    }
   ],
   "source": [
    "# year based question\n",
    "year=int(input('year:'))\n",
    "if year%400==0 or year%4==0:\n",
    "    print(year,'is a leap year')\n",
    "elif year%100==0:\n",
    "    print(year,'is not a leap year')\n",
    "else:\n",
    "    print(year,'is not a leap year')"
   ]
  },
  {
   "cell_type": "code",
   "execution_count": 4,
   "id": "a34c85d2",
   "metadata": {},
   "outputs": [
    {
     "name": "stdout",
     "output_type": "stream",
     "text": [
      "num:8\n",
      "factors: [1, 2, 4]\n",
      "sum: 7\n",
      "deficient\n"
     ]
    }
   ],
   "source": [
    "#factor based question\n",
    "n=int(input('num:'))\n",
    "i=1\n",
    "divisor=[]\n",
    "while i<n:\n",
    "    if n%i==0:\n",
    "        divisor.append(i)\n",
    "    i+=1\n",
    "divisorsum =sum(divisor)\n",
    "print('factors:',divisor)\n",
    "print('sum:',divisorsum)\n",
    "\n",
    "if(divisorsum==n):\n",
    "    print('perfect')\n",
    "elif(divisorsum>on):\n",
    "    print('abundant')\n",
    "else:\n",
    "    print('deficient')"
   ]
  },
  {
   "cell_type": "code",
   "execution_count": 6,
   "id": "5d459bbc",
   "metadata": {},
   "outputs": [
    {
     "name": "stdout",
     "output_type": "stream",
     "text": [
      "a,b,c: 12,23,22\n",
      "23\n"
     ]
    }
   ],
   "source": [
    "a,b,c=(input(\"a,b,c: \").split(','))\n",
    "a,b,c=[int(a),int(b),int(c)]\n",
    "if a>b and a>c:\n",
    "    print(a)\n",
    "elif b>c and b>a:\n",
    "    print(b)\n",
    "else:\n",
    "    print(c)"
   ]
  },
  {
   "cell_type": "code",
   "execution_count": 9,
   "id": "93d03c82",
   "metadata": {},
   "outputs": [
    {
     "name": "stdout",
     "output_type": "stream",
     "text": [
      "num:76876\n",
      "sum: 34\n"
     ]
    }
   ],
   "source": [
    "#sum of all digit in an number\n",
    "num=(int(input('num:')))\n",
    "sum=0\n",
    "while(num):\n",
    "    sum=sum+(num%10)\n",
    "    num=num//10\n",
    "print(\"sum:\",sum)"
   ]
  },
  {
   "cell_type": "code",
   "execution_count": 11,
   "id": "8617de3f",
   "metadata": {},
   "outputs": [
    {
     "name": "stdout",
     "output_type": "stream",
     "text": [
      "ch: 8\n",
      "not a alphabet\n"
     ]
    }
   ],
   "source": [
    "#printing vowels consonants and not an alphabet\n",
    "ch=input('ch: ')\n",
    "vowels=['A','I','E','O','U','a','e','i','o','u']\n",
    "if ch.isalpha():\n",
    "    if ch in vowels:\n",
    "        print(\"vowels\")\n",
    "    else:\n",
    "        print('consonant')\n",
    "else:\n",
    "    print(\"not a alphabet\")"
   ]
  },
  {
   "cell_type": "code",
   "execution_count": 13,
   "id": "cff5c0bd",
   "metadata": {},
   "outputs": [
    {
     "name": "stdout",
     "output_type": "stream",
     "text": [
      "k:25\n",
      "0\n",
      "1\n",
      "1\n",
      "2\n",
      "3\n",
      "5\n",
      "8\n",
      "13\n",
      "21\n",
      "sum: 33\n"
     ]
    }
   ],
   "source": [
    "#febonaci seriees\n",
    "k=int(input(\"k:\"))\n",
    "first=0\n",
    "second=1\n",
    "third=0\n",
    "i=0\n",
    "sum=0\n",
    "while third<k:\n",
    "    print(third)\n",
    "    if(i%2==0):\n",
    "        sum=sum+third\n",
    "    first=second\n",
    "    second=third\n",
    "    third=first+second\n",
    "    i+=1\n",
    "print(\"sum:\",sum)"
   ]
  },
  {
   "cell_type": "code",
   "execution_count": 6,
   "id": "e0b2f9c5",
   "metadata": {},
   "outputs": [
    {
     "name": "stdout",
     "output_type": "stream",
     "text": [
      "matrix: [[1, 2, 3, 4], [4, 5, 6, 7], [5, 6, 7, 8]]\n",
      "transposed: [[1, 4, 5], [2, 5, 6], [3, 6, 7], [4, 7, 8]]\n"
     ]
    }
   ],
   "source": [
    "#matrix formation\n",
    "matrix=[[1,2,3,4],[4,5,6,7],[5,6,7,8]]\n",
    "print(\"matrix:\",matrix)\n",
    "transposed=[]\n",
    "for i in range(len(matrix[0])):\n",
    "    tra_row=[]\n",
    "    for row in matrix:\n",
    "        tra_row.append(row[i])\n",
    "    transposed.append(tra_row)\n",
    "print('transposed:',transposed)"
   ]
  },
  {
   "cell_type": "code",
   "execution_count": 12,
   "id": "68c057df",
   "metadata": {},
   "outputs": [
    {
     "name": "stdout",
     "output_type": "stream",
     "text": [
      "n:7\n",
      "3.1\n",
      "3.14\n",
      "3.142\n",
      "3.1416\n",
      "3.14159\n",
      "3.141593\n",
      "3.1415927\n"
     ]
    }
   ],
   "source": [
    "import math\n",
    "pi=math.pi\n",
    "n=int(input(\"n:\"))\n",
    "for i in range(1,1+n):\n",
    "    print('{:.{}f}'.format(pi,i))"
   ]
  },
  {
   "cell_type": "code",
   "execution_count": 30,
   "id": "f0497914",
   "metadata": {},
   "outputs": [
    {
     "name": "stdout",
     "output_type": "stream",
     "text": [
      " python\n",
      " 5\n",
      "onpyth\n"
     ]
    }
   ],
   "source": [
    "######   cbt 1   ######\n",
    "x=str(input(' '))\n",
    "y=int(input(\" \"))\n",
    "if len(x)<y:\n",
    "    print(\"Not possible\")\n",
    "elif len(x)>y:\n",
    "    print(x[-2:]+x[0:-2])"
   ]
  },
  {
   "cell_type": "code",
   "execution_count": 31,
   "id": "cdb1832f",
   "metadata": {},
   "outputs": [
    {
     "name": "stdout",
     "output_type": "stream",
     "text": [
      " 7\n",
      " 9.99909990\n",
      "(7+9.9990999j)\n"
     ]
    }
   ],
   "source": [
    "######   cbt 1   ######\n",
    "x=(input(' '))\n",
    "y=(input(\" \")\n",
    "print(complex(x,y)"
   ]
  },
  {
   "cell_type": "code",
   "execution_count": 14,
   "id": "b82a327b",
   "metadata": {},
   "outputs": [
    {
     "name": "stdout",
     "output_type": "stream",
     "text": [
      "Enter a Month: april\n",
      "No of days: 30\n"
     ]
    }
   ],
   "source": [
    "month=str(input(\"Enter a Month: \"))\n",
    "\n",
    "if month in ('September','september','June','june','November','november','April','april'):\n",
    "    print(\"No of days: 30\")\n",
    "elif month in ('Janurary','janurary','March','march','May','may','July','july','August','august','october','October','December','december'):\n",
    "    print(\"No of days: 31\")\n",
    "elif month in (\"Feburary\",\"feburary\"):\n",
    "    print(\"No of days: 28/29\")\n",
    "else:\n",
    "    print(\"wrong month name\")"
   ]
  }
 ],
 "metadata": {
  "kernelspec": {
   "display_name": "Python 3 (ipykernel)",
   "language": "python",
   "name": "python3"
  },
  "language_info": {
   "codemirror_mode": {
    "name": "ipython",
    "version": 3
   },
   "file_extension": ".py",
   "mimetype": "text/x-python",
   "name": "python",
   "nbconvert_exporter": "python",
   "pygments_lexer": "ipython3",
   "version": "3.11.5"
  }
 },
 "nbformat": 4,
 "nbformat_minor": 5
}
